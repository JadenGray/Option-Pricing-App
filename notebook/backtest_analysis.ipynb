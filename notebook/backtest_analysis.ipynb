{
 "cells": [
  {
   "cell_type": "markdown",
   "metadata": {},
   "source": [
    "# Backtest and Analysis Notebook"
   ]
  },
  {
   "cell_type": "code",
   "execution_count": 1,
   "metadata": {},
   "outputs": [],
   "source": [
    "# Cell 0: Setup Python Path to Include 'src'\n",
    "import os, sys\n",
    "\n",
    "# Adjust path to ensure 'src' is importable\n",
    "repo_root = os.path.abspath(os.path.join(os.getcwd(), \"..\"))\n",
    "src_path = os.path.join(repo_root, \"src\")\n",
    "\n",
    "if src_path not in sys.path:\n",
    "    sys.path.insert(0, src_path)"
   ]
  },
  {
   "cell_type": "code",
   "execution_count": 2,
   "metadata": {},
   "outputs": [
    {
     "ename": "ModuleNotFoundError",
     "evalue": "No module named 'src'",
     "output_type": "error",
     "traceback": [
      "\u001b[1;31m---------------------------------------------------------------------------\u001b[0m",
      "\u001b[1;31mModuleNotFoundError\u001b[0m                       Traceback (most recent call last)",
      "Cell \u001b[1;32mIn[2], line 4\u001b[0m\n\u001b[0;32m      2\u001b[0m \u001b[38;5;28;01mimport\u001b[39;00m \u001b[38;5;21;01mpandas\u001b[39;00m \u001b[38;5;28;01mas\u001b[39;00m \u001b[38;5;21;01mpd\u001b[39;00m\n\u001b[0;32m      3\u001b[0m \u001b[38;5;28;01mimport\u001b[39;00m \u001b[38;5;21;01mnumpy\u001b[39;00m \u001b[38;5;28;01mas\u001b[39;00m \u001b[38;5;21;01mnp\u001b[39;00m\n\u001b[1;32m----> 4\u001b[0m \u001b[38;5;28;01mfrom\u001b[39;00m \u001b[38;5;21;01msrc\u001b[39;00m\u001b[38;5;21;01m.\u001b[39;00m\u001b[38;5;21;01mdata_loader\u001b[39;00m \u001b[38;5;28;01mimport\u001b[39;00m load_minute_underlying, fetch_daily_options\n\u001b[0;32m      5\u001b[0m \u001b[38;5;28;01mfrom\u001b[39;00m \u001b[38;5;21;01msrc\u001b[39;00m\u001b[38;5;21;01m.\u001b[39;00m\u001b[38;5;21;01mstrategy\u001b[39;00m \u001b[38;5;28;01mimport\u001b[39;00m generate_signals\n\u001b[0;32m      6\u001b[0m \u001b[38;5;28;01mfrom\u001b[39;00m \u001b[38;5;21;01msrc\u001b[39;00m\u001b[38;5;21;01m.\u001b[39;00m\u001b[38;5;21;01manalytics\u001b[39;00m \u001b[38;5;28;01mimport\u001b[39;00m compute_pnl\n",
      "\u001b[1;31mModuleNotFoundError\u001b[0m: No module named 'src'"
     ]
    }
   ],
   "source": [
    "# Cell 1: Setup and Imports\n",
    "import pandas as pd\n",
    "import numpy as np\n",
    "from src.data_loader import load_minute_underlying, fetch_daily_options\n",
    "from src.strategy import generate_signals\n",
    "from src.analytics import compute_pnl\n",
    "from src.minute_simulator import simulate_minute_chain\n",
    "import matplotlib.pyplot as plt\n",
    "import time"
   ]
  },
  {
   "cell_type": "code",
   "execution_count": null,
   "metadata": {},
   "outputs": [],
   "source": [
    "symbol = 'SPY'\n",
    "start = '2025-07-01'\n",
    "end = '2025-07-02'\n",
    "r = 0.01"
   ]
  },
  {
   "cell_type": "code",
   "execution_count": null,
   "metadata": {},
   "outputs": [],
   "source": [
    "print(\"Fetching minute-level underlying data...\")\n",
    "u_df = load_minute_underlying(symbol, start, end)\n",
    "u_df.to_csv(\"data/minute_underlying.csv\", index=False)\n",
    "print(\"Saved to data/minute_underlying.csv\")"
   ]
  },
  {
   "cell_type": "code",
   "execution_count": null,
   "metadata": {},
   "outputs": [],
   "source": [
    "print(\"Fetching daily option chain...\")\n",
    "option_chain = fetch_daily_options(symbol)\n",
    "front_month = option_chain.sort_values('expiry').groupby('option_symbol').first().reset_index()\n",
    "front_month.to_csv(\"data/option_chain.csv\", index=False)\n",
    "print(\"Saved to data/option_chain.csv\")"
   ]
  },
  {
   "cell_type": "code",
   "execution_count": null,
   "metadata": {},
   "outputs": [],
   "source": [
    "print(\"Simulating minute-level option chain...\")\n",
    "from tqdm import tqdm\n",
    "\n",
    "minute_rows = []\n",
    "for _, row in tqdm(front_month.iterrows(), total=front_month.shape[0]):\n",
    "    for _, u_row in u_df.iterrows():\n",
    "        minute_rows.append({\n",
    "            'datetime': u_row['datetime'],\n",
    "            'option_symbol': row['option_symbol'],\n",
    "            'strike': row['strike'],\n",
    "            'expiry': row['expiry'],\n",
    "            'option_type': row['option_type'],\n",
    "            'underlying_price': u_row['underlying_price'],\n",
    "            'mid': np.nan,\n",
    "            'bid': np.nan,\n",
    "            'ask': np.nan\n",
    "        })\n",
    "\n",
    "minute_df = pd.DataFrame(minute_rows)\n",
    "minute_df.to_csv(\"data/minute_simulated_chain.csv\", index=False)\n",
    "print(\"Saved to data/minute_simulated_chain.csv\")"
   ]
  },
  {
   "cell_type": "code",
   "execution_count": null,
   "metadata": {},
   "outputs": [],
   "source": [
    "df = generate_signals(minute_df, r=r, vol_mode='historical', filter_front_month=False)\n",
    "df.to_csv(\"data/signals.csv\", index=False)\n",
    "print(\"Signals saved to data/signals.csv\")"
   ]
  },
  {
   "cell_type": "code",
   "execution_count": null,
   "metadata": {},
   "outputs": [],
   "source": [
    "pnl_df = compute_pnl(df)\n",
    "pnl_df.to_csv(\"data/pnl.csv\", index=False)\n",
    "print(\"PnL saved to data/pnl.csv\")"
   ]
  },
  {
   "cell_type": "code",
   "execution_count": null,
   "metadata": {},
   "outputs": [],
   "source": [
    "# Cell 8: Visualize Results\n",
    "plt.figure(figsize=(10, 5))\n",
    "plt.plot(pnl_df['datetime'], pnl_df['cumulative_pnl'], label='Cumulative PnL')\n",
    "plt.xlabel(\"Date\")\n",
    "plt.ylabel(\"PnL\")\n",
    "plt.title(\"Cumulative PnL Over Time\")\n",
    "plt.grid(True)\n",
    "plt.legend()\n",
    "plt.tight_layout()\n",
    "plt.show()"
   ]
  }
 ],
 "metadata": {
  "kernelspec": {
   "display_name": "Python 3",
   "language": "python",
   "name": "python3"
  },
  "language_info": {
   "codemirror_mode": {
    "name": "ipython",
    "version": 3
   },
   "file_extension": ".py",
   "mimetype": "text/x-python",
   "name": "python",
   "nbconvert_exporter": "python",
   "pygments_lexer": "ipython3",
   "version": "3.11.5"
  }
 },
 "nbformat": 4,
 "nbformat_minor": 2
}
