{
 "cells": [
  {
   "cell_type": "markdown",
   "metadata": {},
   "source": [
    "# Backtest and Analysis Notebook"
   ]
  },
  {
   "cell_type": "code",
   "execution_count": 1,
   "metadata": {},
   "outputs": [
    {
     "ename": "ModuleNotFoundError",
     "evalue": "No module named 'src'",
     "output_type": "error",
     "traceback": [
      "\u001b[1;31m---------------------------------------------------------------------------\u001b[0m",
      "\u001b[1;31mModuleNotFoundError\u001b[0m                       Traceback (most recent call last)",
      "Cell \u001b[1;32mIn[1], line 4\u001b[0m\n\u001b[0;32m      2\u001b[0m \u001b[38;5;28;01mimport\u001b[39;00m \u001b[38;5;21;01msys\u001b[39;00m\u001b[38;5;241m,\u001b[39m \u001b[38;5;21;01mos\u001b[39;00m\n\u001b[0;32m      3\u001b[0m \u001b[38;5;28;01mfrom\u001b[39;00m \u001b[38;5;21;01mdatetime\u001b[39;00m \u001b[38;5;28;01mimport\u001b[39;00m datetime, timedelta\n\u001b[1;32m----> 4\u001b[0m \u001b[38;5;28;01mfrom\u001b[39;00m \u001b[38;5;21;01msrc\u001b[39;00m \u001b[38;5;28;01mimport\u001b[39;00m generate_signals, compute_pnl\n\u001b[0;32m      5\u001b[0m \u001b[38;5;28;01mfrom\u001b[39;00m \u001b[38;5;21;01msrc\u001b[39;00m\u001b[38;5;21;01m.\u001b[39;00m\u001b[38;5;21;01mdata_loader\u001b[39;00m \u001b[38;5;28;01mimport\u001b[39;00m fetch_options\n\u001b[0;32m      7\u001b[0m \u001b[38;5;66;03m# 1) Point to project root\u001b[39;00m\n",
      "\u001b[1;31mModuleNotFoundError\u001b[0m: No module named 'src'"
     ]
    }
   ],
   "source": [
    "import pandas as pd\n",
    "import sys, os\n",
    "from datetime import datetime, timedelta\n",
    "from src import generate_signals, compute_pnl\n",
    "from src.data_loader import fetch_options\n",
    "\n",
    "# 1) Point to project root\n",
    "project_root = os.path.abspath(\"..\")\n",
    "if project_root not in sys.path:\n",
    "    sys.path.insert(0, project_root)\n",
    "\n",
    "# 2) Build a multi‐date dataset\n",
    "start = datetime(2025, 6, 1)\n",
    "end   = datetime(2025, 7, 17)\n",
    "all_dfs = []\n",
    "\n",
    "current = start\n",
    "while current <= end:\n",
    "    dt = current.date()\n",
    "    try:\n",
    "        df_day = fetch_options(\"SPY\")\n",
    "        df_day[\"date\"] = dt           # overwrite the snapshot’s date\n",
    "        all_dfs.append(df_day)\n",
    "    except Exception as e:\n",
    "        print(f\"Failed on {dt}: {e}\")\n",
    "    current += timedelta(days=1)\n",
    "\n",
    "full_df = pd.concat(all_dfs, ignore_index=True)\n",
    "\n",
    "# 3) Save\n",
    "data_path = os.path.join(project_root, \"data\", \"options_data.csv\")\n",
    "full_df.to_csv(data_path, index=False)\n",
    "\n",
    "# 4) Reload & backtest\n",
    "df = pd.read_csv(data_path, parse_dates=[\"date\",\"expiry\"])\n",
    "df = generate_signals(df)\n",
    "pnl_df = compute_pnl(df)\n",
    "\n",
    "# 5) Plot\n",
    "import matplotlib.pyplot as plt\n",
    "plt.plot(pnl_df[\"date\"], pnl_df[\"cumulative_pnl\"])\n",
    "plt.title(\"Cumulative PnL\")\n",
    "plt.grid(True)\n",
    "plt.show()\n"
   ]
  },
  {
   "cell_type": "code",
   "execution_count": null,
   "metadata": {},
   "outputs": [
    {
     "ename": "ValueError",
     "evalue": "Expected column: {k} not found in DataFrame",
     "output_type": "error",
     "traceback": [
      "\u001b[1;31m---------------------------------------------------------------------------\u001b[0m",
      "\u001b[1;31mValueError\u001b[0m                                Traceback (most recent call last)",
      "Cell \u001b[1;32mIn[4], line 5\u001b[0m\n\u001b[0;32m      2\u001b[0m df \u001b[38;5;241m=\u001b[39m load_options_data(\u001b[38;5;124m\"\u001b[39m\u001b[38;5;124mSPY\u001b[39m\u001b[38;5;124m\"\u001b[39m, num_expiries\u001b[38;5;241m=\u001b[39m\u001b[38;5;241m2\u001b[39m)\n\u001b[0;32m      4\u001b[0m \u001b[38;5;66;03m# Now you can directly call Optopsy on the pandas DF:\u001b[39;00m\n\u001b[1;32m----> 5\u001b[0m stats \u001b[38;5;241m=\u001b[39m \u001b[43mop\u001b[49m\u001b[38;5;241;43m.\u001b[39;49m\u001b[43mlong_calls\u001b[49m\u001b[43m(\u001b[49m\n\u001b[0;32m      6\u001b[0m \u001b[43m    \u001b[49m\u001b[43mdf\u001b[49m\u001b[43m,\u001b[49m\n\u001b[0;32m      7\u001b[0m \u001b[43m    \u001b[49m\u001b[43mdatetime_col\u001b[49m\u001b[38;5;241;43m=\u001b[39;49m\u001b[38;5;124;43m\"\u001b[39;49m\u001b[38;5;124;43mdate\u001b[39;49m\u001b[38;5;124;43m\"\u001b[39;49m\u001b[43m,\u001b[49m\n\u001b[0;32m      8\u001b[0m \u001b[43m    \u001b[49m\u001b[43munderlying_price_col\u001b[49m\u001b[38;5;241;43m=\u001b[39;49m\u001b[38;5;124;43m\"\u001b[39;49m\u001b[38;5;124;43munderlying_price\u001b[39;49m\u001b[38;5;124;43m\"\u001b[39;49m\u001b[43m,\u001b[49m\n\u001b[0;32m      9\u001b[0m \u001b[43m    \u001b[49m\u001b[43moption_symbol_col\u001b[49m\u001b[38;5;241;43m=\u001b[39;49m\u001b[38;5;124;43m\"\u001b[39;49m\u001b[38;5;124;43moption_symbol\u001b[39;49m\u001b[38;5;124;43m\"\u001b[39;49m\u001b[43m,\u001b[49m\n\u001b[0;32m     10\u001b[0m \u001b[43m    \u001b[49m\u001b[43mstrike_col\u001b[49m\u001b[38;5;241;43m=\u001b[39;49m\u001b[38;5;124;43m\"\u001b[39;49m\u001b[38;5;124;43mstrike\u001b[39;49m\u001b[38;5;124;43m\"\u001b[39;49m\u001b[43m,\u001b[49m\n\u001b[0;32m     11\u001b[0m \u001b[43m    \u001b[49m\u001b[43mexpiry_col\u001b[49m\u001b[38;5;241;43m=\u001b[39;49m\u001b[38;5;124;43m\"\u001b[39;49m\u001b[38;5;124;43mexpiry\u001b[39;49m\u001b[38;5;124;43m\"\u001b[39;49m\u001b[43m,\u001b[49m\n\u001b[0;32m     12\u001b[0m \u001b[43m    \u001b[49m\u001b[43mbid_col\u001b[49m\u001b[38;5;241;43m=\u001b[39;49m\u001b[38;5;124;43m\"\u001b[39;49m\u001b[38;5;124;43mbid\u001b[39;49m\u001b[38;5;124;43m\"\u001b[39;49m\u001b[43m,\u001b[49m\n\u001b[0;32m     13\u001b[0m \u001b[43m    \u001b[49m\u001b[43mask_col\u001b[49m\u001b[38;5;241;43m=\u001b[39;49m\u001b[38;5;124;43m\"\u001b[39;49m\u001b[38;5;124;43mask\u001b[39;49m\u001b[38;5;124;43m\"\u001b[39;49m\u001b[43m,\u001b[49m\n\u001b[0;32m     14\u001b[0m \u001b[43m    \u001b[49m\u001b[43mmoneyness\u001b[49m\u001b[38;5;241;43m=\u001b[39;49m\u001b[43m(\u001b[49m\u001b[38;5;241;43m0.99\u001b[39;49m\u001b[43m,\u001b[49m\u001b[43m \u001b[49m\u001b[38;5;241;43m1.01\u001b[39;49m\u001b[43m)\u001b[49m\u001b[43m,\u001b[49m\n\u001b[0;32m     15\u001b[0m \u001b[43m    \u001b[49m\u001b[43mdays_to_expiry\u001b[49m\u001b[38;5;241;43m=\u001b[39;49m\u001b[43m(\u001b[49m\u001b[38;5;241;43m5\u001b[39;49m\u001b[43m,\u001b[49m\u001b[43m \u001b[49m\u001b[38;5;241;43m30\u001b[39;49m\u001b[43m)\u001b[49m\n\u001b[0;32m     16\u001b[0m \u001b[43m)\u001b[49m\n",
      "File \u001b[1;32mc:\\Users\\44750\\AppData\\Local\\Programs\\Python\\Python311\\Lib\\site-packages\\optopsy\\strategies.py:101\u001b[0m, in \u001b[0;36mlong_calls\u001b[1;34m(data, **kwargs)\u001b[0m\n\u001b[0;32m    100\u001b[0m \u001b[38;5;28;01mdef\u001b[39;00m \u001b[38;5;21mlong_calls\u001b[39m(data, \u001b[38;5;241m*\u001b[39m\u001b[38;5;241m*\u001b[39mkwargs):\n\u001b[1;32m--> 101\u001b[0m     \u001b[38;5;28;01mreturn\u001b[39;00m \u001b[43m_singles\u001b[49m\u001b[43m(\u001b[49m\u001b[43mdata\u001b[49m\u001b[43m,\u001b[49m\u001b[43m \u001b[49m\u001b[43m[\u001b[49m\u001b[43m(\u001b[49m\u001b[43mSide\u001b[49m\u001b[38;5;241;43m.\u001b[39;49m\u001b[43mlong\u001b[49m\u001b[43m,\u001b[49m\u001b[43m \u001b[49m\u001b[43m_calls\u001b[49m\u001b[43m)\u001b[49m\u001b[43m]\u001b[49m\u001b[43m,\u001b[49m\u001b[43m \u001b[49m\u001b[38;5;241;43m*\u001b[39;49m\u001b[38;5;241;43m*\u001b[39;49m\u001b[43mkwargs\u001b[49m\u001b[43m)\u001b[49m\n",
      "File \u001b[1;32mc:\\Users\\44750\\AppData\\Local\\Programs\\Python\\Python311\\Lib\\site-packages\\optopsy\\strategies.py:31\u001b[0m, in \u001b[0;36m_singles\u001b[1;34m(data, leg_def, **kwargs)\u001b[0m\n\u001b[0;32m     29\u001b[0m \u001b[38;5;28;01mdef\u001b[39;00m \u001b[38;5;21m_singles\u001b[39m(data, leg_def, \u001b[38;5;241m*\u001b[39m\u001b[38;5;241m*\u001b[39mkwargs):\n\u001b[0;32m     30\u001b[0m     params \u001b[38;5;241m=\u001b[39m {\u001b[38;5;241m*\u001b[39m\u001b[38;5;241m*\u001b[39mdefault_kwargs, \u001b[38;5;241m*\u001b[39m\u001b[38;5;241m*\u001b[39mkwargs}\n\u001b[1;32m---> 31\u001b[0m     \u001b[38;5;28;01mreturn\u001b[39;00m \u001b[43m_process_strategy\u001b[49m\u001b[43m(\u001b[49m\n\u001b[0;32m     32\u001b[0m \u001b[43m        \u001b[49m\u001b[43mdata\u001b[49m\u001b[43m,\u001b[49m\n\u001b[0;32m     33\u001b[0m \u001b[43m        \u001b[49m\u001b[43minternal_cols\u001b[49m\u001b[38;5;241;43m=\u001b[39;49m\u001b[43msingle_strike_internal_cols\u001b[49m\u001b[43m,\u001b[49m\n\u001b[0;32m     34\u001b[0m \u001b[43m        \u001b[49m\u001b[43mexternal_cols\u001b[49m\u001b[38;5;241;43m=\u001b[39;49m\u001b[43msingle_strike_external_cols\u001b[49m\u001b[43m,\u001b[49m\n\u001b[0;32m     35\u001b[0m \u001b[43m        \u001b[49m\u001b[43mleg_def\u001b[49m\u001b[38;5;241;43m=\u001b[39;49m\u001b[43mleg_def\u001b[49m\u001b[43m,\u001b[49m\n\u001b[0;32m     36\u001b[0m \u001b[43m        \u001b[49m\u001b[43mparams\u001b[49m\u001b[38;5;241;43m=\u001b[39;49m\u001b[43mparams\u001b[49m\u001b[43m,\u001b[49m\n\u001b[0;32m     37\u001b[0m \u001b[43m    \u001b[49m\u001b[43m)\u001b[49m\n",
      "File \u001b[1;32mc:\\Users\\44750\\AppData\\Local\\Programs\\Python\\Python311\\Lib\\site-packages\\optopsy\\core.py:188\u001b[0m, in \u001b[0;36m_process_strategy\u001b[1;34m(data, **context)\u001b[0m\n\u001b[0;32m    187\u001b[0m \u001b[38;5;28;01mdef\u001b[39;00m \u001b[38;5;21m_process_strategy\u001b[39m(data, \u001b[38;5;241m*\u001b[39m\u001b[38;5;241m*\u001b[39mcontext):\n\u001b[1;32m--> 188\u001b[0m     \u001b[43m_run_checks\u001b[49m\u001b[43m(\u001b[49m\u001b[43mcontext\u001b[49m\u001b[43m[\u001b[49m\u001b[38;5;124;43m\"\u001b[39;49m\u001b[38;5;124;43mparams\u001b[39;49m\u001b[38;5;124;43m\"\u001b[39;49m\u001b[43m]\u001b[49m\u001b[43m,\u001b[49m\u001b[43m \u001b[49m\u001b[43mdata\u001b[49m\u001b[43m)\u001b[49m\n\u001b[0;32m    189\u001b[0m     \u001b[38;5;28;01mreturn\u001b[39;00m (\n\u001b[0;32m    190\u001b[0m         _evaluate_all_options(\n\u001b[0;32m    191\u001b[0m             data,\n\u001b[1;32m   (...)\u001b[0m\n\u001b[0;32m    210\u001b[0m         )\n\u001b[0;32m    211\u001b[0m     )\n",
      "File \u001b[1;32mc:\\Users\\44750\\AppData\\Local\\Programs\\Python\\Python311\\Lib\\site-packages\\optopsy\\checks.py:17\u001b[0m, in \u001b[0;36m_run_checks\u001b[1;34m(params, data)\u001b[0m\n\u001b[0;32m     15\u001b[0m     \u001b[38;5;28;01mif\u001b[39;00m k \u001b[38;5;129;01min\u001b[39;00m param_checks:\n\u001b[0;32m     16\u001b[0m         param_checks[k](k, v)\n\u001b[1;32m---> 17\u001b[0m \u001b[43m_check_data_types\u001b[49m\u001b[43m(\u001b[49m\u001b[43mdata\u001b[49m\u001b[43m)\u001b[49m\n",
      "File \u001b[1;32mc:\\Users\\44750\\AppData\\Local\\Programs\\Python\\Python311\\Lib\\site-packages\\optopsy\\checks.py:54\u001b[0m, in \u001b[0;36m_check_data_types\u001b[1;34m(data)\u001b[0m\n\u001b[0;32m     52\u001b[0m \u001b[38;5;28;01mfor\u001b[39;00m k, et \u001b[38;5;129;01min\u001b[39;00m expected_types\u001b[38;5;241m.\u001b[39mitems():\n\u001b[0;32m     53\u001b[0m     \u001b[38;5;28;01mif\u001b[39;00m k \u001b[38;5;129;01mnot\u001b[39;00m \u001b[38;5;129;01min\u001b[39;00m df_type_dict:\n\u001b[1;32m---> 54\u001b[0m         \u001b[38;5;28;01mraise\u001b[39;00m \u001b[38;5;167;01mValueError\u001b[39;00m(\u001b[38;5;124m\"\u001b[39m\u001b[38;5;124mExpected column: \u001b[39m\u001b[38;5;132;01m{k}\u001b[39;00m\u001b[38;5;124m not found in DataFrame\u001b[39m\u001b[38;5;124m\"\u001b[39m)\n\u001b[0;32m     55\u001b[0m     \u001b[38;5;28;01mif\u001b[39;00m \u001b[38;5;28mall\u001b[39m(df_type_dict[k] \u001b[38;5;241m!=\u001b[39m t \u001b[38;5;28;01mfor\u001b[39;00m t \u001b[38;5;129;01min\u001b[39;00m et):\n\u001b[0;32m     56\u001b[0m         \u001b[38;5;28;01mraise\u001b[39;00m \u001b[38;5;167;01mValueError\u001b[39;00m(\n\u001b[0;32m     57\u001b[0m             \u001b[38;5;124mf\u001b[39m\u001b[38;5;124m\"\u001b[39m\u001b[38;5;132;01m{\u001b[39;00mdf_type_dict[k]\u001b[38;5;132;01m}\u001b[39;00m\u001b[38;5;124m of \u001b[39m\u001b[38;5;132;01m{\u001b[39;00mk\u001b[38;5;132;01m}\u001b[39;00m\u001b[38;5;124m does not match expected types: \u001b[39m\u001b[38;5;132;01m{\u001b[39;00mexpected_types[k]\u001b[38;5;132;01m}\u001b[39;00m\u001b[38;5;124m\"\u001b[39m\n\u001b[0;32m     58\u001b[0m         )\n",
      "\u001b[1;31mValueError\u001b[0m: Expected column: {k} not found in DataFrame"
     ]
    }
   ],
   "source": [
    "# Fetch a live SPY options DataFrame\n",
    "df = load_options_data(\"SPY\", num_expiries=2)\n",
    "\n",
    "# Now you can directly call Optopsy on the pandas DF:\n",
    "stats = op.long_calls(\n",
    "    df,\n",
    "    datetime_col=\"date\",\n",
    "    underlying_price_col=\"underlying_price\",\n",
    "    option_symbol_col=\"option_symbol\",\n",
    "    strike_col=\"strike\",\n",
    "    expiry_col=\"expiry\",\n",
    "    bid_col=\"bid\",\n",
    "    ask_col=\"ask\",\n",
    "    moneyness=(0.99, 1.01),\n",
    "    days_to_expiry=(5, 30)\n",
    ")\n",
    "\n",
    "\n"
   ]
  },
  {
   "cell_type": "code",
   "execution_count": null,
   "metadata": {},
   "outputs": [],
   "source": [
    "# Cell 3: Run Backtest Example\n",
    "r = 0.02  # 2% risk-free\n",
    "sigma = 0.2  # assumed vol\n",
    "stats = backtest_example(csv_path, r, sigma)\n",
    "print('Backtest stats (first 5):')\n",
    "stats.head()\n",
    "# Plot equity curve\n",
    "if 'equity_curve' in stats.columns:\n",
    "    plt.figure(figsize=(10,4))\n",
    "    plt.plot(stats['date'], stats['equity_curve'])\n",
    "    plt.title('Equity Curve - Long ATM Calls')\n",
    "    plt.xlabel('Date')\n",
    "    plt.ylabel('Portfolio Value')\n",
    "    plt.show()"
   ]
  },
  {
   "cell_type": "code",
   "execution_count": null,
   "metadata": {},
   "outputs": [],
   "source": [
    "# Cell 4: Define Sample Portfolio\n",
    "demo_portfolio = [\n",
    "    {'type':'call','strike':100,'expiry':pd.Timestamp('2024-12-20'),'quantity':1,'purchase_price':2.5},\n",
    "    {'type':'put','strike':95,'expiry':pd.Timestamp('2024-12-20'),'quantity':-1,'purchase_price':1.8}\n",
    "]"
   ]
  },
  {
   "cell_type": "code",
   "execution_count": null,
   "metadata": {},
   "outputs": [],
   "source": [
    "# Cell 5: Portfolio Heatmap & PnL Curve\n",
    "hm_fig, pnl_fig = analysis_example(demo_portfolio, r, sigma)\n",
    "print('Portfolio PnL Heatmap:')\n",
    "hm_fig.show()\n",
    "print('Portfolio PnL vs Spot Price:')\n",
    "pnl_fig.show()"
   ]
  },
  {
   "cell_type": "code",
   "execution_count": null,
   "metadata": {},
   "outputs": [],
   "source": [
    "# Cell 6: Greeks Profile - Delta vs Spot Price\n",
    "spot_prices = np.linspace(50, 150, 100)\n",
    "delta_vals = [black_scholes_metric(S, 100, pd.Timestamp('2024-12-20'), r, sigma, 'call', 'Delta') for S in spot_prices]\n",
    "plt.figure(figsize=(8,4))\n",
    "plt.plot(spot_prices, delta_vals, label='Call Delta')\n",
    "plt.axvline(100, linestyle='--', label='Strike')\n",
    "plt.title('Call Delta vs Spot Price')\n",
    "plt.xlabel('Spot Price')\n",
    "plt.ylabel('Delta')\n",
    "plt.legend()\n",
    "plt.show()"
   ]
  },
  {
   "cell_type": "markdown",
   "metadata": {},
   "source": [
    "---\n",
    "## Interpretation\n",
    "- **Backtest stats** with cleaner top-level imports.\n",
    "- **Equity Curve**, **Heatmap**, **P&L Curve**, and **Delta Profile** as before."
   ]
  }
 ],
 "metadata": {
  "kernelspec": {
   "display_name": "Python 3",
   "language": "python",
   "name": "python3"
  },
  "language_info": {
   "codemirror_mode": {
    "name": "ipython",
    "version": 3
   },
   "file_extension": ".py",
   "mimetype": "text/x-python",
   "name": "python",
   "nbconvert_exporter": "python",
   "pygments_lexer": "ipython3",
   "version": "3.11.5"
  }
 },
 "nbformat": 4,
 "nbformat_minor": 2
}
