{
 "cells": [
  {
   "cell_type": "markdown",
   "metadata": {},
   "source": [
    "# Backtest and Analysis Notebook (Updated Imports)\n",
    "Uses top-level imports from `src/__init__.py` for cleaner code."
   ]
  },
  {
   "cell_type": "code",
   "execution_count": 9,
   "metadata": {},
   "outputs": [],
   "source": [
    "import sys\n",
    "import os\n",
    "\n",
    "# Adjust this path to match where your notebook is relative to the repo root\n",
    "project_root = os.path.abspath(\"..\")\n",
    "if project_root not in sys.path:\n",
    "    sys.path.insert(0, project_root)\n",
    "\n",
    "# Now import from src\n",
    "from src import (\n",
    "    load_options_data,\n",
    "    backtest_example,\n",
    "    analysis_example,\n",
    "    black_scholes_metric\n",
    ")"
   ]
  },
  {
   "cell_type": "code",
   "execution_count": 10,
   "metadata": {},
   "outputs": [
    {
     "ename": "TypeError",
     "evalue": "load_options_data() missing 1 required positional argument: 'csv_path'",
     "output_type": "error",
     "traceback": [
      "\u001b[1;31m---------------------------------------------------------------------------\u001b[0m",
      "\u001b[1;31mTypeError\u001b[0m                                 Traceback (most recent call last)",
      "Cell \u001b[1;32mIn[10], line 3\u001b[0m\n\u001b[0;32m      1\u001b[0m \u001b[38;5;28;01mfrom\u001b[39;00m \u001b[38;5;21;01msrc\u001b[39;00m \u001b[38;5;28;01mimport\u001b[39;00m load_options_data\n\u001b[1;32m----> 3\u001b[0m df \u001b[38;5;241m=\u001b[39m \u001b[43mload_options_data\u001b[49m\u001b[43m(\u001b[49m\u001b[43m)\u001b[49m\n\u001b[0;32m      4\u001b[0m df\u001b[38;5;241m.\u001b[39mhead()\n",
      "\u001b[1;31mTypeError\u001b[0m: load_options_data() missing 1 required positional argument: 'csv_path'"
     ]
    }
   ],
   "source": [
    "from src import load_options_data\n",
    "\n",
    "df = load_options_data()\n",
    "df.head()\n"
   ]
  },
  {
   "cell_type": "code",
   "execution_count": null,
   "metadata": {},
   "outputs": [],
   "source": [
    "# Cell 3: Run Backtest Example\n",
    "r = 0.02  # 2% risk-free\n",
    "sigma = 0.2  # assumed vol\n",
    "stats = backtest_example(csv_path, r, sigma)\n",
    "print('Backtest stats (first 5):')\n",
    "stats.head()\n",
    "# Plot equity curve\n",
    "if 'equity_curve' in stats.columns:\n",
    "    plt.figure(figsize=(10,4))\n",
    "    plt.plot(stats['date'], stats['equity_curve'])\n",
    "    plt.title('Equity Curve - Long ATM Calls')\n",
    "    plt.xlabel('Date')\n",
    "    plt.ylabel('Portfolio Value')\n",
    "    plt.show()"
   ]
  },
  {
   "cell_type": "code",
   "execution_count": null,
   "metadata": {},
   "outputs": [],
   "source": [
    "# Cell 4: Define Sample Portfolio\n",
    "demo_portfolio = [\n",
    "    {'type':'call','strike':100,'expiry':pd.Timestamp('2024-12-20'),'quantity':1,'purchase_price':2.5},\n",
    "    {'type':'put','strike':95,'expiry':pd.Timestamp('2024-12-20'),'quantity':-1,'purchase_price':1.8}\n",
    "]"
   ]
  },
  {
   "cell_type": "code",
   "execution_count": null,
   "metadata": {},
   "outputs": [],
   "source": [
    "# Cell 5: Portfolio Heatmap & PnL Curve\n",
    "hm_fig, pnl_fig = analysis_example(demo_portfolio, r, sigma)\n",
    "print('Portfolio PnL Heatmap:')\n",
    "hm_fig.show()\n",
    "print('Portfolio PnL vs Spot Price:')\n",
    "pnl_fig.show()"
   ]
  },
  {
   "cell_type": "code",
   "execution_count": null,
   "metadata": {},
   "outputs": [],
   "source": [
    "# Cell 6: Greeks Profile - Delta vs Spot Price\n",
    "spot_prices = np.linspace(50, 150, 100)\n",
    "delta_vals = [black_scholes_metric(S, 100, pd.Timestamp('2024-12-20'), r, sigma, 'call', 'Delta') for S in spot_prices]\n",
    "plt.figure(figsize=(8,4))\n",
    "plt.plot(spot_prices, delta_vals, label='Call Delta')\n",
    "plt.axvline(100, linestyle='--', label='Strike')\n",
    "plt.title('Call Delta vs Spot Price')\n",
    "plt.xlabel('Spot Price')\n",
    "plt.ylabel('Delta')\n",
    "plt.legend()\n",
    "plt.show()"
   ]
  },
  {
   "cell_type": "markdown",
   "metadata": {},
   "source": [
    "---\n",
    "## Interpretation\n",
    "- **Backtest stats** with cleaner top-level imports.\n",
    "- **Equity Curve**, **Heatmap**, **P&L Curve**, and **Delta Profile** as before."
   ]
  }
 ],
 "metadata": {
  "kernelspec": {
   "display_name": "Python 3",
   "language": "python",
   "name": "python3"
  },
  "language_info": {
   "codemirror_mode": {
    "name": "ipython",
    "version": 3
   },
   "file_extension": ".py",
   "mimetype": "text/x-python",
   "name": "python",
   "nbconvert_exporter": "python",
   "pygments_lexer": "ipython3",
   "version": "3.11.5"
  }
 },
 "nbformat": 4,
 "nbformat_minor": 2
}
